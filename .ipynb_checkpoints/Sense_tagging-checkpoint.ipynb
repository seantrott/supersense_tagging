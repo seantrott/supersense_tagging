{
 "cells": [
  {
   "cell_type": "markdown",
   "id": "f9ad0202",
   "metadata": {},
   "source": [
    "## Notebook for tagging senses\n",
    "\n",
    "This notebook is a template for tagging the WordNet `synsets` of different ambiguous words in context.\n",
    "\n",
    "- Once a `synset` is obtained, we can map that to `synset.lexname()` to identify the supersense.\n",
    "- If no `synset` seems like a good chance, simply write \"other\" instead."
   ]
  },
  {
   "cell_type": "code",
   "execution_count": 1,
   "id": "6bd4f802",
   "metadata": {},
   "outputs": [],
   "source": [
    "from nltk.corpus import wordnet as wn\n",
    "import pandas as pd\n",
    "from IPython.display import clear_output\n",
    "import nltk"
   ]
  },
  {
   "cell_type": "code",
   "execution_count": 2,
   "id": "841d8c80",
   "metadata": {},
   "outputs": [
    {
     "name": "stderr",
     "output_type": "stream",
     "text": [
      "[nltk_data] Downloading package punkt to /Users/seantrott/nltk_data...\n",
      "[nltk_data]   Package punkt is already up-to-date!\n",
      "[nltk_data] Downloading package omw-1.4 to\n",
      "[nltk_data]     /Users/seantrott/nltk_data...\n",
      "[nltk_data]   Package omw-1.4 is already up-to-date!\n",
      "[nltk_data] Downloading package wordnet to\n",
      "[nltk_data]     /Users/seantrott/nltk_data...\n",
      "[nltk_data]   Package wordnet is already up-to-date!\n"
     ]
    },
    {
     "data": {
      "text/plain": [
       "True"
      ]
     },
     "execution_count": 2,
     "metadata": {},
     "output_type": "execute_result"
    }
   ],
   "source": [
    "nltk.download(\"punkt\")\n",
    "nltk.download(\"omw-1.4\")\n",
    "nltk.download('wordnet')"
   ]
  },
  {
   "cell_type": "code",
   "execution_count": 3,
   "id": "b46798f7",
   "metadata": {},
   "outputs": [],
   "source": [
    "### Get lexname for each synset, i.e., s.lexname() \n",
    "### lexname is = supersense"
   ]
  },
  {
   "cell_type": "markdown",
   "id": "7f80340c",
   "metadata": {},
   "source": [
    "## Tagging (HK)"
   ]
  },
  {
   "cell_type": "code",
   "execution_count": 7,
   "id": "883c9f42",
   "metadata": {},
   "outputs": [
    {
     "data": {
      "text/html": [
       "<div>\n",
       "<style scoped>\n",
       "    .dataframe tbody tr th:only-of-type {\n",
       "        vertical-align: middle;\n",
       "    }\n",
       "\n",
       "    .dataframe tbody tr th {\n",
       "        vertical-align: top;\n",
       "    }\n",
       "\n",
       "    .dataframe thead th {\n",
       "        text-align: right;\n",
       "    }\n",
       "</style>\n",
       "<table border=\"1\" class=\"dataframe\">\n",
       "  <thead>\n",
       "    <tr style=\"text-align: right;\">\n",
       "      <th></th>\n",
       "      <th>word</th>\n",
       "      <th>sentence</th>\n",
       "      <th>context</th>\n",
       "      <th>Class</th>\n",
       "    </tr>\n",
       "  </thead>\n",
       "  <tbody>\n",
       "    <tr>\n",
       "      <th>0</th>\n",
       "      <td>bat</td>\n",
       "      <td>He saw a fruit bat.</td>\n",
       "      <td>M1_b</td>\n",
       "      <td>N</td>\n",
       "    </tr>\n",
       "    <tr>\n",
       "      <th>1</th>\n",
       "      <td>bat</td>\n",
       "      <td>He saw a furry bat.</td>\n",
       "      <td>M1_a</td>\n",
       "      <td>N</td>\n",
       "    </tr>\n",
       "    <tr>\n",
       "      <th>2</th>\n",
       "      <td>bat</td>\n",
       "      <td>He saw a baseball bat.</td>\n",
       "      <td>M2_b</td>\n",
       "      <td>N</td>\n",
       "    </tr>\n",
       "    <tr>\n",
       "      <th>3</th>\n",
       "      <td>bat</td>\n",
       "      <td>He saw a wooden bat.</td>\n",
       "      <td>M2_a</td>\n",
       "      <td>N</td>\n",
       "    </tr>\n",
       "    <tr>\n",
       "      <th>4</th>\n",
       "      <td>act</td>\n",
       "      <td>It was a comedic act.</td>\n",
       "      <td>M2_b</td>\n",
       "      <td>N</td>\n",
       "    </tr>\n",
       "  </tbody>\n",
       "</table>\n",
       "</div>"
      ],
      "text/plain": [
       "  word                sentence context Class\n",
       "0  bat     He saw a fruit bat.    M1_b     N\n",
       "1  bat     He saw a furry bat.    M1_a     N\n",
       "2  bat  He saw a baseball bat.    M2_b     N\n",
       "3  bat    He saw a wooden bat.    M2_a     N\n",
       "4  act   It was a comedic act.    M2_b     N"
      ]
     },
     "execution_count": 7,
     "metadata": {},
     "output_type": "execute_result"
    }
   ],
   "source": [
    "### Sentences to tag\n",
    "df_stims = pd.read_csv(\"data/raw/rawc_sentences.csv\")\n",
    "df_stims.head(5)"
   ]
  },
  {
   "cell_type": "code",
   "execution_count": 8,
   "id": "4e13d15f",
   "metadata": {
    "scrolled": true
   },
   "outputs": [
    {
     "name": "stdout",
     "output_type": "stream",
     "text": [
      "2 sentences tagged.\n"
     ]
    }
   ],
   "source": [
    "### Which sentences have already been tagged?\n",
    "with open(\"data/output/rawc_tagging_HK.txt\", \"r\") as f:\n",
    "    num_sentences = len(f.readlines())\n",
    "print(\"{x} sentences tagged.\".format(x = num_sentences))"
   ]
  },
  {
   "cell_type": "code",
   "execution_count": 6,
   "id": "525858c5",
   "metadata": {},
   "outputs": [],
   "source": [
    "tags = []\n",
    "\n",
    "for index, row in df_stims[num_sentences:].iterrows():\n",
    "    print(row['sentence'])\n",
    "    print(\"\\n\")\n",
    "    pos = \".{x}.\".format(x=row['Class'].lower())\n",
    "    synsets = [i for i in wn.synsets(row['word']) if pos in i.name()]\n",
    "    \n",
    "    for s in synsets:\n",
    "        print(\"{x}: {y}\\n\".format(x = s.name(), y = s.definition()))\n",
    "    \n",
    "    tag = input(\"> \")    \n",
    "    tags.append(tag)\n",
    "    \n",
    "    with open(\"data/output/rawc_tagging_HK.txt\", \"a\") as f:\n",
    "        f.write(\"{sentence},{word},{tag}\\n\".format(sentence = row['sentence'],\n",
    "                                                word = row['word'],\n",
    "                                                tag = tag))\n",
    "    \n",
    "    clear_output()\n",
    "    "
   ]
  }
 ],
 "metadata": {
  "kernelspec": {
   "display_name": "Python 3 (ipykernel)",
   "language": "python",
   "name": "python3"
  },
  "language_info": {
   "codemirror_mode": {
    "name": "ipython",
    "version": 3
   },
   "file_extension": ".py",
   "mimetype": "text/x-python",
   "name": "python",
   "nbconvert_exporter": "python",
   "pygments_lexer": "ipython3",
   "version": "3.9.12"
  }
 },
 "nbformat": 4,
 "nbformat_minor": 5
}
